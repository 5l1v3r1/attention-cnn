{
 "cells": [
  {
   "cell_type": "markdown",
   "metadata": {},
   "source": [
    "# Two Dots Dataset\n",
    "\n",
    "Generate a dataset of white images 32x32 containing two red dots at random distance (uniform)."
   ]
  },
  {
   "cell_type": "code",
   "execution_count": 1,
   "metadata": {},
   "outputs": [],
   "source": [
    "import numpy as np\n",
    "import os\n",
    "import torch"
   ]
  },
  {
   "cell_type": "code",
   "execution_count": 2,
   "metadata": {},
   "outputs": [],
   "source": [
    "import matplotlib.pyplot as plt\n",
    "%matplotlib notebook"
   ]
  },
  {
   "cell_type": "code",
   "execution_count": 3,
   "metadata": {},
   "outputs": [],
   "source": [
    "image_size = 32\n",
    "n_channels = 3\n",
    "margin = 3\n",
    "output_directory = \"dataset\"\n",
    "os.makedirs(output_directory, exist_ok=True)"
   ]
  },
  {
   "cell_type": "code",
   "execution_count": 4,
   "metadata": {},
   "outputs": [
    {
     "name": "stdout",
     "output_type": "stream",
     "text": [
      "4.546066096307157\n"
     ]
    },
    {
     "data": {
      "image/png": "[encoded data removed]",
      "text/plain": [
       "<PIL.Image.Image image mode=RGB size=32x32 at 0x12004EB00>"
      ]
     },
     "execution_count": 4,
     "metadata": {},
     "output_type": "execute_result"
    }
   ],
   "source": [
    "from PIL import Image, ImageDraw\n",
    "\n",
    "def draw_point(draw, center, radius, color=\"red\"):\n",
    "    draw.ellipse((center[0] - radius, center[1] - radius, center[0] + radius, center[1] + radius), color)\n",
    "\n",
    "def generate_image(image_size, radius=1, margin=3):\n",
    "    \"\"\"\n",
    "    Create an image with 2 red dots\n",
    "    returns: image, distance between points\n",
    "    \"\"\"\n",
    "    x = np.random.rand(2) * (image_size - 2 * margin) + margin\n",
    "    y = np.random.rand(2) * (image_size - 2 * margin) + margin\n",
    "    dist = np.linalg.norm(x - y)\n",
    "    \n",
    "    img = Image.new(\"RGB\", [image_size, image_size], (255, 255, 255))\n",
    "    draw = ImageDraw.Draw(img)\n",
    "    draw_point(draw, x, radius)\n",
    "    draw_point(draw, y, radius)\n",
    "    return img, dist\n",
    "    \n",
    "img, dist = generate_image(32)\n",
    "print(dist)\n",
    "img"
   ]
  },
  {
   "cell_type": "code",
   "execution_count": 5,
   "metadata": {},
   "outputs": [],
   "source": [
    "def resampling_uniform_indices(values, num_samples, min_=None, max_=None):\n",
    "    sorted_indices = values.argsort()\n",
    "    \n",
    "    min_ = min_ or min(values)\n",
    "    max_ = max_ or max(values)\n",
    "    linspace = np.linspace(min_, max_, num_samples)\n",
    "\n",
    "    indices = []\n",
    "    i = 0\n",
    "    for threshold in linspace:\n",
    "        while i < len(sorted_indices) and values[sorted_indices[i]] < threshold:\n",
    "            i += 1\n",
    "        if i >= len(sorted_indices):\n",
    "            break\n",
    "        else:\n",
    "            indices.append(sorted_indices[i])\n",
    "            i += 1\n",
    "        \n",
    "    return np.array(indices)"
   ]
  },
  {
   "cell_type": "code",
   "execution_count": 6,
   "metadata": {},
   "outputs": [],
   "source": [
    "# DATASET:\n",
    "# Train and valid with dist [5,19]\n",
    "# 4000 train, 1000 valid\n",
    "# Test with dist [5 25]\n",
    "# 5000 test\n",
    "# Classes are always balanced\n",
    "\n",
    "def generate_dataset(n, min_dist, max_dist, image_size, class_1_threshold):\n",
    "    images, distances = zip(*[generate_image(image_size) for _ in range(100 * n)])\n",
    "    distances = np.array(distances)\n",
    "    resampled_indices = resampling_uniform_indices(distances, n, min_=min_dist, max_=max_dist)\n",
    "    np.random.shuffle(resampled_indices)\n",
    "    images = [images[i] for i in resampled_indices]\n",
    "    distances = distances[resampled_indices]\n",
    "    return images, (distances > class_1_threshold) * 1\n",
    "\n",
    "class_1_threshold = 12\n",
    "train = generate_dataset(4000, 5, 19, 32, class_1_threshold=class_1_threshold)\n",
    "valid = generate_dataset(1000, 5, 19, 32, class_1_threshold=class_1_threshold)\n",
    "\n",
    "n_test = 5000\n",
    "images_test0, distances_test0 = generate_dataset(n_test // 2, 5, class_1_threshold, 32, class_1_threshold=class_1_threshold)\n",
    "images_test1, distances_test1 = generate_dataset(n_test // 2, class_1_threshold, 25, 32, class_1_threshold=class_1_threshold)\n",
    "test = images_test0 + images_test1, np.concatenate([distances_test0, distances_test1])\n",
    "# test = generate_dataset(5000, 5, 25, 32, class_1_threshold=class_1_threshold)"
   ]
  },
  {
   "cell_type": "code",
   "execution_count": 32,
   "metadata": {},
   "outputs": [],
   "source": [
    "def save_dataset(images, labels, directory, split):\n",
    "    def torch_image_from_PIL(im):\n",
    "        # numpy\n",
    "        im = np.asarray(im)\n",
    "        # in [0, 1]\n",
    "        im = (im * 1.) / 255.\n",
    "        # to pytorch\n",
    "        im = torch.from_numpy(im)\n",
    "        # dim order CWH\n",
    "        im = im.permute(2, 0, 1)\n",
    "        return im\n",
    "    \n",
    "    images = [torch_image_from_PIL(im) for im in images]\n",
    "    labels = torch.from_numpy(labels * 1)\n",
    "    \n",
    "    x_shape = [len(images), *(images[0].shape)]\n",
    "    x = torch.zeros(x_shape)\n",
    "    for i in range(len(images)):\n",
    "        x[i] = images[i]\n",
    "    filename = os.path.join(directory, \"two_dots_balanced.{}\".format(split))\n",
    "    torch.save({'data': x, 'target': labels}, filename)\n",
    "\n",
    "save_dataset(train[0], train[1], output_directory, \"train\")\n",
    "save_dataset(valid[0], valid[1], output_directory, \"valid\")\n",
    "save_dataset(test[0], test[1], output_directory, \"test\")"
   ]
  },
  {
   "cell_type": "code",
   "execution_count": 33,
   "metadata": {},
   "outputs": [],
   "source": [
    "train_data = torch.load(\"dataset/two_dots_balanced.train\")\n",
    "images = train_data[\"data\"]\n",
    "labels = train_data[\"target\"]"
   ]
  },
  {
   "cell_type": "code",
   "execution_count": 39,
   "metadata": {},
   "outputs": [
    {
     "name": "stdout",
     "output_type": "stream",
     "text": [
      "label 0\n"
     ]
    },
    {
     "data": {
      "image/png": "[encoded data removed]",
      "text/plain": [
       "<Figure size 432x288 with 1 Axes>"
      ]
     },
     "metadata": {
      "needs_background": "light"
     },
     "output_type": "display_data"
    },
    {
     "name": "stdout",
     "output_type": "stream",
     "text": [
      "label 0\n"
     ]
    },
    {
     "data": {
      "image/png": "[encoded data removed]",
      "text/plain": [
       "<Figure size 432x288 with 1 Axes>"
      ]
     },
     "metadata": {
      "needs_background": "light"
     },
     "output_type": "display_data"
    },
    {
     "name": "stdout",
     "output_type": "stream",
     "text": [
      "label 0\n"
     ]
    },
    {
     "data": {
      "image/png": "[encoded data removed]",
      "text/plain": [
       "<Figure size 432x288 with 1 Axes>"
      ]
     },
     "metadata": {
      "needs_background": "light"
     },
     "output_type": "display_data"
    },
    {
     "name": "stdout",
     "output_type": "stream",
     "text": [
      "label 1\n"
     ]
    },
    {
     "data": {
      "image/png": "[encoded data removed]",
      "text/plain": [
       "<Figure size 432x288 with 1 Axes>"
      ]
     },
     "metadata": {
      "needs_background": "light"
     },
     "output_type": "display_data"
    },
    {
     "name": "stdout",
     "output_type": "stream",
     "text": [
      "label 1\n"
     ]
    },
    {
     "data": {
      "image/png": "[encoded data removed]",
      "text/plain": [
       "<Figure size 432x288 with 1 Axes>"
      ]
     },
     "metadata": {
      "needs_background": "light"
     },
     "output_type": "display_data"
    },
    {
     "name": "stdout",
     "output_type": "stream",
     "text": [
      "label 1\n"
     ]
    },
    {
     "data": {
      "image/png": "[encoded data removed]",
      "text/plain": [
       "<Figure size 432x288 with 1 Axes>"
      ]
     },
     "metadata": {
      "needs_background": "light"
     },
     "output_type": "display_data"
    },
    {
     "name": "stdout",
     "output_type": "stream",
     "text": [
      "label 0\n"
     ]
    },
    {
     "data": {
      "image/png": "[encoded data removed]",
      "text/plain": [
       "<Figure size 432x288 with 1 Axes>"
      ]
     },
     "metadata": {
      "needs_background": "light"
     },
     "output_type": "display_data"
    },
    {
     "name": "stdout",
     "output_type": "stream",
     "text": [
      "label 0\n"
     ]
    },
    {
     "data": {
      "image/png": "[encoded data removed]",
      "text/plain": [
       "<Figure size 432x288 with 1 Axes>"
      ]
     },
     "metadata": {
      "needs_background": "light"
     },
     "output_type": "display_data"
    },
    {
     "name": "stdout",
     "output_type": "stream",
     "text": [
      "label 0\n"
     ]
    },
    {
     "data": {
      "image/png": "[encoded data removed]",
      "text/plain": [
       "<Figure size 432x288 with 1 Axes>"
      ]
     },
     "metadata": {
      "needs_background": "light"
     },
     "output_type": "display_data"
    },
    {
     "name": "stdout",
     "output_type": "stream",
     "text": [
      "label 1\n"
     ]
    },
    {
     "data": {
      "image/png": "[encoded data removed]",
      "text/plain": [
       "<Figure size 432x288 with 1 Axes>"
      ]
     },
     "metadata": {
      "needs_background": "light"
     },
     "output_type": "display_data"
    }
   ],
   "source": [
    "for i in range(10):\n",
    "    print(\"label\", labels[i].item())\n",
    "    plt.figure()\n",
    "    plt.imshow(images[i].permute(1,2,0).numpy())\n",
    "    plt.show();"
   ]
  },
  {
   "cell_type": "code",
   "execution_count": null,
   "metadata": {},
   "outputs": [],
   "source": []
  }
 ],
 "metadata": {
  "kernelspec": {
   "display_name": "Python 3",
   "language": "python",
   "name": "python3"
  },
  "language_info": {
   "codemirror_mode": {
    "name": "ipython",
    "version": 3
   },
   "file_extension": ".py",
   "mimetype": "text/x-python",
   "name": "python",
   "nbconvert_exporter": "python",
   "pygments_lexer": "ipython3",
   "version": "3.7.1"
  }
 },
 "nbformat": 4,
 "nbformat_minor": 2
}
