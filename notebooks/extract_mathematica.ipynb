{
 "cells": [
  {
   "cell_type": "code",
   "execution_count": 2,
   "metadata": {},
   "outputs": [],
   "source": [
    "checkpoint_file = \"gs://transformers-cnn/results/iclr/gauss_l6_h9_d576_batch100_e100_noniso/0099.checkpoint\""
   ]
  },
  {
   "cell_type": "code",
   "execution_count": 5,
   "metadata": {},
   "outputs": [],
   "source": [
    "import torch\n",
    "from tensorflow.python.lib.io import file_io\n",
    "\n",
    "# download parameters from checkpoint\n",
    "with file_io.FileIO(checkpoint_file, 'rb') as f:\n",
    "    checkpoint_data = torch.load(f, map_location='cpu')"
   ]
  },
  {
   "cell_type": "code",
   "execution_count": 7,
   "metadata": {},
   "outputs": [],
   "source": [
    "parameters = checkpoint_data[\"model_state_dict\"]"
   ]
  },
  {
   "cell_type": "code",
   "execution_count": 21,
   "metadata": {},
   "outputs": [],
   "source": [
    "import re\n",
    "\n",
    "attention_centers = []\n",
    "attention_spreads = []\n",
    "\n",
    "for name, param in parameters.items():\n",
    "    res = re.findall(\"encoder.layer.(\\d+).attention.self.attention_(.+)\", name)\n",
    "    if res:\n",
    "        layer_num, typ = int(res[0][0]), res[0][1]\n",
    "        if typ == 'centers':\n",
    "            attention_centers.append(param)\n",
    "        elif typ == 'spreads':\n",
    "            attention_spreads.append(param)\n",
    "        else:\n",
    "            print(\"unknown type '{}'\".format(typ))\n",
    "            \n",
    "# -- n_layers, n_head, 2\n",
    "attention_centers = torch.stack(attention_centers)\n",
    "\n",
    "# -- n_layers, n_head, 2, 2\n",
    "attention_spreads = torch.stack(attention_spreads)"
   ]
  },
  {
   "cell_type": "code",
   "execution_count": 29,
   "metadata": {},
   "outputs": [],
   "source": [
    "import json\n",
    "\n",
    "data = dict(\n",
    "    n_layers = attention_centers.shape[0],\n",
    "    n_head = attention_centers.shape[1],\n",
    "    attention_centers = attention_centers.numpy().tolist(),\n",
    "    attention_spreads = attention_spreads.numpy().tolist()\n",
    ")\n",
    "\n",
    "with open(\"export_attention.json\", \"w\") as f:\n",
    "    json.dump(data, f)"
   ]
  },
  {
   "cell_type": "code",
   "execution_count": null,
   "metadata": {},
   "outputs": [],
   "source": []
  }
 ],
 "metadata": {
  "kernelspec": {
   "display_name": "Python 3",
   "language": "python",
   "name": "python3"
  },
  "language_info": {
   "codemirror_mode": {
    "name": "ipython",
    "version": 3
   },
   "file_extension": ".py",
   "mimetype": "text/x-python",
   "name": "python",
   "nbconvert_exporter": "python",
   "pygments_lexer": "ipython3",
   "version": "3.7.1"
  }
 },
 "nbformat": 4,
 "nbformat_minor": 2
}
