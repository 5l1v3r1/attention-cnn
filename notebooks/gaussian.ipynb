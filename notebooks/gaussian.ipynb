{
 "cells": [
  {
   "cell_type": "code",
   "execution_count": 2,
   "metadata": {},
   "outputs": [],
   "source": [
    "import torch\n",
    "import matplotlib.pyplot as plt\n",
    "import numbers"
   ]
  },
  {
   "cell_type": "code",
   "execution_count": 3,
   "metadata": {},
   "outputs": [
    {
     "data": {
      "text/plain": [
       "<matplotlib.image.AxesImage at 0x11a422400>"
      ]
     },
     "execution_count": 3,
     "metadata": {},
     "output_type": "execute_result"
    },
    {
     "data": {
      "image/png": "[encoded data removed]",
      "text/plain": [
       "<Figure size 432x288 with 1 Axes>"
      ]
     },
     "metadata": {
      "needs_background": "light"
     },
     "output_type": "display_data"
    }
   ],
   "source": [
    "def gaussian_kernel_2d(mean, std_inv, size):\n",
    "\n",
    "    if isinstance(size, numbers.Number):\n",
    "        width = height = size\n",
    "    else:\n",
    "        width, height = size\n",
    "\n",
    "    if isinstance(std_inv, numbers.Number):\n",
    "        std_inv = torch.tensor([[std_inv, 0], [0, std_inv]])\n",
    "    elif std_inv.dim() == 0:\n",
    "        std_inv = torch.diag(std_inv.repeat(2))\n",
    "    elif std_inv.dim() == 1:\n",
    "        assert len(std_inv) == 2\n",
    "        std_inv = torch.diag(std_inv)\n",
    "\n",
    "    # squared \n",
    "    covariance_inv = std_inv.transpose(0, 1) @ std_inv\n",
    "    covariance_inv = covariance_inv.float()\n",
    "\n",
    "    # center the gaussian in (0, 0) and then shift to mean\n",
    "    X = torch.cat([t.unsqueeze(-1) for t in reversed(torch.meshgrid([torch.arange(s) for s in [width, height]]))], dim=-1)\n",
    "    X = X.float()\n",
    "    X -= torch.tensor([(width - 1) / 2, (height - 1) / 2]).float()\n",
    "    X -= mean.float()\n",
    "    \n",
    "    # does not use the normalize constant of gaussian distribution\n",
    "    Y = torch.exp((-1 / 2) * torch.einsum('xyi,ij,xyj->xy', [X, covariance_inv, X]))\n",
    "\n",
    "    # normalize\n",
    "    Y /= Y.sum()\n",
    "    return Y\n",
    "    \n",
    "kernel = gaussian_kernel_2d(torch.tensor([-5, 5]), \n",
    "#                             torch.tensor([[.3, .1],[.5, -.1]]),\n",
    "                            torch.tensor([.3,.1]),\n",
    "#                             torch.tensor([[.1,0], [0,.1]]), \n",
    "                            size=(50, 50))\n",
    "\n",
    "plt.imshow(kernel)"
   ]
  },
  {
   "cell_type": "code",
   "execution_count": 6,
   "metadata": {},
   "outputs": [],
   "source": [
    "X = torch.rand(10, 32, 100, 21)\n",
    "num_heads = 7\n",
    "attention_centers = torch.rand(num_heads, 2)\n",
    "attention_alpha = torch.rand(num_heads)"
   ]
  },
  {
   "cell_type": "code",
   "execution_count": null,
   "metadata": {},
   "outputs": [],
   "source": []
  },
  {
   "cell_type": "code",
   "execution_count": 7,
   "metadata": {},
   "outputs": [],
   "source": [
    "import torch.nn.functional as F"
   ]
  },
  {
   "cell_type": "code",
   "execution_count": 8,
   "metadata": {},
   "outputs": [
    {
     "name": "stdout",
     "output_type": "stream",
     "text": [
      "torch.Size([3, 1, 11, 11])\n",
      "torch.Size([3, 1, 11, 11])\n",
      "torch.Size([3, 1, 11, 11])\n",
      "torch.Size([3, 1, 11, 11])\n",
      "torch.Size([3, 1, 11, 11])\n",
      "torch.Size([3, 1, 11, 11])\n",
      "torch.Size([3, 1, 11, 11])\n"
     ]
    },
    {
     "data": {
      "text/plain": [
       "torch.Size([10, 21, 32, 100])"
      ]
     },
     "execution_count": 8,
     "metadata": {},
     "output_type": "execute_result"
    }
   ],
   "source": [
    "batch, width, height, d_total = X.shape\n",
    "d_head = d_total // num_heads\n",
    "Y = X.permute(0, 3, 1, 2)\n",
    "\n",
    "kernels = []\n",
    "kernel_width = kernel_height = 11  # should be odd\n",
    "for mean, std_inv in zip(attention_centers, attention_alpha):\n",
    "    conv_weights = gaussian_kernel_2d(mean, std_inv, size=(kernel_width, kernel_height))\n",
    "    conv_weights = conv_weights.unsqueeze(0).unsqueeze(0).repeat(d_head, 1, 1, 1)\n",
    "    print(conv_weights.shape)\n",
    "    kernels.append(conv_weights)\n",
    "\n",
    "weights = torch.cat(kernels)\n",
    "    \n",
    "padding_width = (kernel_width - 1) // 2\n",
    "padding_height = (kernel_height - 1) // 2\n",
    "out = F.conv2d(Y, weights, groups=d_total, padding=(padding_width, padding_height))\n",
    "out.shape"
   ]
  },
  {
   "cell_type": "code",
   "execution_count": 27,
   "metadata": {},
   "outputs": [
    {
     "data": {
      "text/plain": [
       "tensor([[2.3360e-12, 1.2916e-11, 6.5263e-11,  ..., 1.0476e-19, 8.4291e-21,\n",
       "         6.1983e-22],\n",
       "        [3.1219e-12, 1.7261e-11, 8.7220e-11,  ..., 1.4001e-19, 1.1265e-20,\n",
       "         8.2836e-22],\n",
       "        [4.1306e-12, 2.2838e-11, 1.1540e-10,  ..., 1.8525e-19, 1.4905e-20,\n",
       "         1.0960e-21],\n",
       "        ...,\n",
       "        [3.9190e-11, 2.1668e-10, 1.0949e-09,  ..., 1.7576e-18, 1.4141e-19,\n",
       "         1.0399e-20],\n",
       "        [3.2734e-11, 1.8099e-10, 9.1455e-10,  ..., 1.4681e-18, 1.1812e-19,\n",
       "         8.6858e-21],\n",
       "        [2.7070e-11, 1.4967e-10, 7.5629e-10,  ..., 1.2140e-18, 9.7680e-20,\n",
       "         7.1828e-21]])"
      ]
     },
     "execution_count": 27,
     "metadata": {},
     "output_type": "execute_result"
    }
   ],
   "source": [
    "kernel"
   ]
  },
  {
   "cell_type": "code",
   "execution_count": 37,
   "metadata": {},
   "outputs": [
    {
     "data": {
      "text/plain": [
       "<matplotlib.image.AxesImage at 0x11ab22f60>"
      ]
     },
     "execution_count": 37,
     "metadata": {},
     "output_type": "execute_result"
    },
    {
     "data": {
      "image/png": "[encoded data removed]",
      "text/plain": [
       "<Figure size 432x288 with 1 Axes>"
      ]
     },
     "metadata": {
      "needs_background": "light"
     },
     "output_type": "display_data"
    }
   ],
   "source": [
    "plt.imshow(kernel)"
   ]
  },
  {
   "cell_type": "code",
   "execution_count": 68,
   "metadata": {},
   "outputs": [
    {
     "data": {
      "text/plain": [
       "<matplotlib.axes._subplots.AxesSubplot at 0x11c4a0588>"
      ]
     },
     "execution_count": 68,
     "metadata": {},
     "output_type": "execute_result"
    },
    {
     "data": {
      "image/png": "[encoded data removed]",
      "text/plain": [
       "<Figure size 432x288 with 1 Axes>"
      ]
     },
     "metadata": {},
     "output_type": "display_data"
    }
   ],
   "source": [
    "# from https://stackoverflow.com/questions/37890550/python-plotting-percentile-contour-lines-of-a-probability-distribution\n",
    "import matplotlib\n",
    "from matplotlib.mlab import bivariate_normal\n",
    "import matplotlib.pyplot as plt\n",
    "import numpy as np\n",
    "from scipy import interpolate\n",
    "import matplotlib.colors as mcolors\n",
    "\n",
    "# X, Y = np.mgrid[0:50:100j, -3:3:100j]\n",
    "# z = \n",
    "\n",
    "\n",
    "\n",
    "def plot_contours_distribution(z, color='C0', contours=np.array([0.9, 0.5, 0.1]), ax=None):\n",
    "    if ax is None:\n",
    "        fig = plt.figure()\n",
    "        ax = fig.add_subplot(111)\n",
    "        \n",
    "    height, width = z.shape\n",
    "        \n",
    "    # compute integral for contours\n",
    "    n = 1000\n",
    "    t = np.linspace(0, z.max(), n)\n",
    "    integral = ((z >= t[:, None, None]) * z).sum(axis=(1,2))\n",
    "    \n",
    "    # chose colors with level transparency\n",
    "    min_contour = contours.min()\n",
    "    max_contour = contours.max()\n",
    "    min_alpha = 0.3\n",
    "    alphas = min_alpha + (1 - min_alpha) * (1 - (contours - min_contour) / max_contour)\n",
    "    colors = [mcolors.to_rgba(color, alpha) for alpha in alphas]\n",
    "\n",
    "    f = interpolate.interp1d(integral, t)\n",
    "    t_contours = f(np.array(contours))\n",
    "    ax.contour(z, t_contours, extent=[0, width, 0, height], colors=colors)\n",
    "    \n",
    "\n",
    "    # draw the grid\n",
    "    ax.set_xticks(np.arange(width))#, minor=True)\n",
    "    ax.set_aspect(1)\n",
    "    ax.set_yticks(np.arange(height))#, minor=True)\n",
    "    plt.tick_params(\n",
    "        axis='both',         \n",
    "        which='both',      \n",
    "        bottom=False,     \n",
    "        top=False,\n",
    "        left=False,\n",
    "        labelbottom=False,\n",
    "        labelleft=False)\n",
    "    plt.grid(True)\n",
    "    \n",
    "    return ax\n",
    "\n",
    "plot_contours_distribution(kernel.numpy())"
   ]
  },
  {
   "cell_type": "code",
   "execution_count": 34,
   "metadata": {},
   "outputs": [
    {
     "data": {
      "text/plain": [
       "array([[2.33597191e-12, 1.29155115e-11, 6.52633017e-11, ...,\n",
       "        1.04762089e-19, 8.42914412e-21, 6.19830505e-22],\n",
       "       [3.12185412e-12, 1.72606287e-11, 8.72195927e-11, ...,\n",
       "        1.40007065e-19, 1.12649503e-20, 8.28359335e-22],\n",
       "       [4.13062119e-12, 2.28380682e-11, 1.15402916e-10, ...,\n",
       "        1.85247292e-19, 1.49049739e-20, 1.09602562e-21],\n",
       "       ...,\n",
       "       [3.91902413e-11, 2.16681534e-10, 1.09491238e-09, ...,\n",
       "        1.75757724e-18, 1.41414449e-19, 1.03988017e-20],\n",
       "       [3.27344298e-11, 1.80987572e-10, 9.14547382e-10, ...,\n",
       "        1.46805161e-18, 1.18119246e-19, 8.68580679e-21],\n",
       "       [2.70700233e-11, 1.49669263e-10, 7.56293639e-10, ...,\n",
       "        1.21402031e-18, 9.76799232e-20, 7.18281719e-21]], dtype=float32)"
      ]
     },
     "execution_count": 34,
     "metadata": {},
     "output_type": "execute_result"
    }
   ],
   "source": [
    "kernel.numpy()\n"
   ]
  },
  {
   "cell_type": "code",
   "execution_count": 64,
   "metadata": {},
   "outputs": [],
   "source": []
  },
  {
   "cell_type": "code",
   "execution_count": 65,
   "metadata": {},
   "outputs": [
    {
     "data": {
      "text/plain": [
       "(1.0, 0.0, 0.0)"
      ]
     },
     "execution_count": 65,
     "metadata": {},
     "output_type": "execute_result"
    }
   ],
   "source": [
    "mcolors.to_rgb('red')"
   ]
  },
  {
   "cell_type": "code",
   "execution_count": null,
   "metadata": {},
   "outputs": [],
   "source": []
  }
 ],
 "metadata": {
  "kernelspec": {
   "display_name": "Python 3",
   "language": "python",
   "name": "python3"
  },
  "language_info": {
   "codemirror_mode": {
    "name": "ipython",
    "version": 3
   },
   "file_extension": ".py",
   "mimetype": "text/x-python",
   "name": "python",
   "nbconvert_exporter": "python",
   "pygments_lexer": "ipython3",
   "version": "3.7.1"
  }
 },
 "nbformat": 4,
 "nbformat_minor": 2
}
