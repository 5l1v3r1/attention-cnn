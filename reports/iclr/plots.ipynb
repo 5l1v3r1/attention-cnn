{
 "cells": [
  {
   "cell_type": "code",
   "execution_count": 128,
   "metadata": {},
   "outputs": [],
   "source": [
    "import numpy as np\n",
    "import os"
   ]
  },
  {
   "cell_type": "code",
   "execution_count": 35,
   "metadata": {},
   "outputs": [],
   "source": [
    "def softmax(X):\n",
    "    X -= X.max()\n",
    "    exp_X = np.exp(X)\n",
    "    normalizer = exp_X.sum()\n",
    "    return exp_X / normalizer"
   ]
  },
  {
   "cell_type": "code",
   "execution_count": 59,
   "metadata": {},
   "outputs": [
    {
     "data": {
      "text/plain": [
       "array([-1, -1])"
      ]
     },
     "execution_count": 59,
     "metadata": {},
     "output_type": "execute_result"
    }
   ],
   "source": [
    "delta[14,4]"
   ]
  },
  {
   "cell_type": "code",
   "execution_count": 95,
   "metadata": {},
   "outputs": [
    {
     "data": {
      "text/plain": [
       "<matplotlib.axes._subplots.AxesSubplot at 0x1258cf358>"
      ]
     },
     "execution_count": 95,
     "metadata": {},
     "output_type": "execute_result"
    },
    {
     "data": {
      "image/png": "[encoded data removed]",
      "text/plain": [
       "<Figure size 432x288 with 1 Axes>"
      ]
     },
     "metadata": {
      "needs_background": "light"
     },
     "output_type": "display_data"
    }
   ],
   "source": [
    "plt.subplots()[1]"
   ]
  },
  {
   "cell_type": "code",
   "execution_count": 133,
   "metadata": {},
   "outputs": [
    {
     "data": {
      "image/png": "[encoded data removed]",
      "text/plain": [
       "<Figure size 1440x288 with 8 Axes>"
      ]
     },
     "metadata": {
      "needs_background": "light"
     },
     "output_type": "display_data"
    }
   ],
   "source": [
    "def plot_attention(center, target, size, alpha, ax=None):\n",
    "    if ax is None:\n",
    "        fig, ax = plt.subplots()\n",
    "\n",
    "    grid = np.mgrid[0:size, 0:size]\n",
    "    grid = np.transpose(grid, (2, 1, 0))\n",
    "\n",
    "    delta = grid - center\n",
    "    R = np.concatenate([delta, delta ** 2, np.ones_like(delta)], axis=-1)\n",
    "    t = np.concatenate([-2 * target, np.ones_like(target), target ** 2])\n",
    "\n",
    "    attention = softmax(- alpha * R @ t)\n",
    "    # attention = R @ t\n",
    "    im = ax.matshow(attention)\n",
    "    text = ax.text(center[0], center[1], \"i\", ha=\"center\", va=\"center\", color=\"r\", size=20)\n",
    "    target_pixel = center + target\n",
    "    text = ax.text(target_pixel[0], target_pixel[1], \"j\", ha=\"center\", va=\"center\", color=\"r\", size=20)\n",
    "\n",
    "    plt.colorbar(im, ax=ax)\n",
    "    return ax\n",
    "\n",
    "\n",
    "size = 10\n",
    "fig, axes = plt.subplots(1, 4, figsize=(20,4))\n",
    "\n",
    "\n",
    "plot_attention(center=np.array([3,2]), target=np.array([4,1]), size=size, alpha = .3, ax=axes[0])\n",
    "axes[0].set_title(\"center (3,2) target (4,1) alpha .3\")\n",
    "\n",
    "plot_attention(center=np.array([3,5]), target=np.array([4,1]), size=size, alpha = .3, ax=axes[1])\n",
    "axes[1].set_title(\"center (3,5) target (4,1) alpha .3\")\n",
    "\n",
    "\n",
    "plot_attention(center=np.array([3,5]), target=np.array([4,1]), size=size, alpha = 1., ax=axes[2])\n",
    "axes[2].set_title(\"center (3,5) target (4,1) alpha 1.\")\n",
    "\n",
    "\n",
    "plot_attention(center=np.array([3,5]), target=np.array([1,1]), size=size, alpha = 10., ax=axes[3])\n",
    "axes[3].set_title(\"center (3,5) target (1,1) alpha 10.\")\n",
    "\n",
    "\n",
    "for ax in axes:\n",
    "    ax.xaxis.set_ticks_position('bottom')\n",
    "\n",
    "\n",
    "os.makedirs('plots', exist_ok=True)\n",
    "plt.savefig('plots/conv_attention.pdf')"
   ]
  },
  {
   "cell_type": "code",
   "execution_count": 132,
   "metadata": {},
   "outputs": [
    {
     "data": {
      "text/plain": [
       "\u001b[0;31mSignature:\u001b[0m \u001b[0mplt\u001b[0m\u001b[0;34m.\u001b[0m\u001b[0msavefig\u001b[0m\u001b[0;34m(\u001b[0m\u001b[0;34m*\u001b[0m\u001b[0margs\u001b[0m\u001b[0;34m,\u001b[0m \u001b[0;34m**\u001b[0m\u001b[0mkwargs\u001b[0m\u001b[0;34m)\u001b[0m\u001b[0;34m\u001b[0m\u001b[0;34m\u001b[0m\u001b[0m\n",
       "\u001b[0;31mDocstring:\u001b[0m\n",
       "Save the current figure.\n",
       "\n",
       "Call signature::\n",
       "\n",
       "  savefig(fname, dpi=None, facecolor='w', edgecolor='w',\n",
       "          orientation='portrait', papertype=None, format=None,\n",
       "          transparent=False, bbox_inches=None, pad_inches=0.1,\n",
       "          frameon=None)\n",
       "\n",
       "The output formats available depend on the backend being used.\n",
       "\n",
       "Parameters\n",
       "----------\n",
       "\n",
       "fname : str or file-like object\n",
       "    A string containing a path to a filename, or a Python\n",
       "    file-like object, or possibly some backend-dependent object\n",
       "    such as :class:`~matplotlib.backends.backend_pdf.PdfPages`.\n",
       "\n",
       "    If *format* is *None* and *fname* is a string, the output\n",
       "    format is deduced from the extension of the filename. If\n",
       "    the filename has no extension, the value of the rc parameter\n",
       "    ``savefig.format`` is used.\n",
       "\n",
       "    If *fname* is not a string, remember to specify *format* to\n",
       "    ensure that the correct backend is used.\n",
       "\n",
       "Other Parameters\n",
       "----------------\n",
       "\n",
       "dpi : [ *None* | scalar > 0 | 'figure']\n",
       "    The resolution in dots per inch.  If *None* it will default to\n",
       "    the value ``savefig.dpi`` in the matplotlibrc file. If 'figure'\n",
       "    it will set the dpi to be the value of the figure.\n",
       "\n",
       "facecolor : color spec or None, optional\n",
       "    the facecolor of the figure; if None, defaults to savefig.facecolor\n",
       "\n",
       "edgecolor : color spec or None, optional\n",
       "    the edgecolor of the figure; if None, defaults to savefig.edgecolor\n",
       "\n",
       "orientation : {'landscape', 'portrait'}\n",
       "    not supported on all backends; currently only on postscript output\n",
       "\n",
       "papertype : str\n",
       "    One of 'letter', 'legal', 'executive', 'ledger', 'a0' through\n",
       "    'a10', 'b0' through 'b10'. Only supported for postscript\n",
       "    output.\n",
       "\n",
       "format : str\n",
       "    One of the file extensions supported by the active\n",
       "    backend.  Most backends support png, pdf, ps, eps and svg.\n",
       "\n",
       "transparent : bool\n",
       "    If *True*, the axes patches will all be transparent; the\n",
       "    figure patch will also be transparent unless facecolor\n",
       "    and/or edgecolor are specified via kwargs.\n",
       "    This is useful, for example, for displaying\n",
       "    a plot on top of a colored background on a web page.  The\n",
       "    transparency of these patches will be restored to their\n",
       "    original values upon exit of this function.\n",
       "\n",
       "frameon : bool\n",
       "    If *True*, the figure patch will be colored, if *False*, the\n",
       "    figure background will be transparent.  If not provided, the\n",
       "    rcParam 'savefig.frameon' will be used.\n",
       "\n",
       "bbox_inches : str or `~matplotlib.transforms.Bbox`, optional\n",
       "    Bbox in inches. Only the given portion of the figure is\n",
       "    saved. If 'tight', try to figure out the tight bbox of\n",
       "    the figure. If None, use savefig.bbox\n",
       "\n",
       "pad_inches : scalar, optional\n",
       "    Amount of padding around the figure when bbox_inches is\n",
       "    'tight'. If None, use savefig.pad_inches\n",
       "\n",
       "bbox_extra_artists : list of `~matplotlib.artist.Artist`, optional\n",
       "    A list of extra artists that will be considered when the\n",
       "    tight bbox is calculated.\n",
       "\u001b[0;31mFile:\u001b[0m      ~/miniconda3/envs/dev/lib/python3.7/site-packages/matplotlib/pyplot.py\n",
       "\u001b[0;31mType:\u001b[0m      function\n"
      ]
     },
     "metadata": {},
     "output_type": "display_data"
    }
   ],
   "source": [
    "plt.savefig?\n"
   ]
  },
  {
   "cell_type": "code",
   "execution_count": 72,
   "metadata": {},
   "outputs": [
    {
     "data": {
      "text/plain": [
       "array([14, 10])"
      ]
     },
     "execution_count": 72,
     "metadata": {},
     "output_type": "execute_result"
    }
   ],
   "source": [
    "target_pixel"
   ]
  },
  {
   "cell_type": "code",
   "execution_count": 73,
   "metadata": {},
   "outputs": [
    {
     "data": {
      "text/plain": [
       "array([14, 10])"
      ]
     },
     "execution_count": 73,
     "metadata": {},
     "output_type": "execute_result"
    }
   ],
   "source": [
    "target_pixel"
   ]
  },
  {
   "cell_type": "code",
   "execution_count": 29,
   "metadata": {},
   "outputs": [
    {
     "data": {
      "text/plain": [
       "(7, 7, 6)"
      ]
     },
     "execution_count": 29,
     "metadata": {},
     "output_type": "execute_result"
    }
   ],
   "source": [
    "R.shape"
   ]
  },
  {
   "cell_type": "code",
   "execution_count": 9,
   "metadata": {},
   "outputs": [],
   "source": [
    "import matplotlib.pyplot as plt"
   ]
  },
  {
   "cell_type": "code",
   "execution_count": 12,
   "metadata": {},
   "outputs": [
    {
     "data": {
      "text/plain": [
       "<matplotlib.image.AxesImage at 0x121aa0f60>"
      ]
     },
     "execution_count": 12,
     "metadata": {},
     "output_type": "execute_result"
    },
    {
     "data": {
      "image/png": "[encoded data removed]",
      "text/plain": [
       "<Figure size 288x288 with 1 Axes>"
      ]
     },
     "metadata": {
      "needs_background": "light"
     },
     "output_type": "display_data"
    }
   ],
   "source": [
    "plt.matshow(row)"
   ]
  },
  {
   "cell_type": "code",
   "execution_count": null,
   "metadata": {},
   "outputs": [],
   "source": []
  }
 ],
 "metadata": {
  "kernelspec": {
   "display_name": "Python 3",
   "language": "python",
   "name": "python3"
  },
  "language_info": {
   "codemirror_mode": {
    "name": "ipython",
    "version": 3
   },
   "file_extension": ".py",
   "mimetype": "text/x-python",
   "name": "python",
   "nbconvert_exporter": "python",
   "pygments_lexer": "ipython3",
   "version": "3.7.1"
  }
 },
 "nbformat": 4,
 "nbformat_minor": 2
}
